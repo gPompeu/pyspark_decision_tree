{
 "cells": [
  {
   "cell_type": "markdown",
   "metadata": {},
   "source": [
    "### Inicialização do pyspark"
   ]
  },
  {
   "cell_type": "code",
   "execution_count": 3,
   "metadata": {},
   "outputs": [
    {
     "data": {
      "text/plain": [
       "'2.4.6'"
      ]
     },
     "execution_count": 3,
     "metadata": {},
     "output_type": "execute_result"
    }
   ],
   "source": [
    "sc.version"
   ]
  },
  {
   "cell_type": "code",
   "execution_count": 1,
   "metadata": {},
   "outputs": [],
   "source": [
    "import pyspark\n",
    "\n",
    "spark = pyspark.sql.SparkSession.builder.appName('decision_tree').getOrCreate()\n",
    "sc = spark.sparkContext"
   ]
  },
  {
   "cell_type": "markdown",
   "metadata": {},
   "source": [
    "### Implementação de árvore de decisão para classificação MLlib"
   ]
  },
  {
   "cell_type": "code",
   "execution_count": 3,
   "metadata": {},
   "outputs": [],
   "source": [
    "from pyspark.mllib.tree import DecisionTree, DecisionTreeModel\n",
    "from pyspark.mllib.util import MLUtils\n",
    "#Carrega e processo os dados para dentro de um RDD de LabeledPoint\n",
    "data = MLUtils.loadLibSVMFile(sc, 'data/iris_libsvm.txt')\n",
    "\n",
    "#Separa os dados em treino e teste\n",
    "(trainingData, testData) = data.randomSplit([0.7, 0.3])"
   ]
  },
  {
   "cell_type": "code",
   "execution_count": 9,
   "metadata": {},
   "outputs": [
    {
     "data": {
      "text/plain": [
       "LabeledPoint(0.0, (4,[0,1,2,3],[4.7,3.2,1.3,0.2]))"
      ]
     },
     "execution_count": 9,
     "metadata": {},
     "output_type": "execute_result"
    }
   ],
   "source": [
    "data.collect()[2]"
   ]
  },
  {
   "cell_type": "code",
   "execution_count": 14,
   "metadata": {},
   "outputs": [
    {
     "name": "stdout",
     "output_type": "stream",
     "text": [
      "Test error: 0.041666666666666664\n",
      "Learned classification tree model:\n",
      "DecisionTreeModel classifier of depth 4 with 13 nodes\n",
      "  If (feature 2 <= 2.45)\n",
      "   Predict: 0.0\n",
      "  Else (feature 2 > 2.45)\n",
      "   If (feature 3 <= 1.75)\n",
      "    If (feature 2 <= 5.05)\n",
      "     Predict: 1.0\n",
      "    Else (feature 2 > 5.05)\n",
      "     If (feature 0 <= 6.05)\n",
      "      Predict: 1.0\n",
      "     Else (feature 0 > 6.05)\n",
      "      Predict: 2.0\n",
      "   Else (feature 3 > 1.75)\n",
      "    If (feature 2 <= 4.85)\n",
      "     If (feature 0 <= 5.95)\n",
      "      Predict: 1.0\n",
      "     Else (feature 0 > 5.95)\n",
      "      Predict: 2.0\n",
      "    Else (feature 2 > 4.85)\n",
      "     Predict: 2.0\n",
      "\n"
     ]
    }
   ],
   "source": [
    "#Treina o modelo\n",
    "#categoricalFeaturesInfo vazio indica que todas as features são contínuas\n",
    "model = DecisionTree.trainClassifier(trainingData, numClasses=3, categoricalFeaturesInfo={}\n",
    "                                    , impurity='gini', maxDepth=5, maxBins=32)\n",
    "\n",
    "#Valida o modelo em instâncias de teste e calcula o erro no teste\n",
    "predictions = model.predict(testData.map(lambda x: x.features))\n",
    "labelsAndPredictions = testData.map(lambda lp: lp.label).zip(predictions)\n",
    "testErr = labelsAndPredictions.filter(\n",
    "    lambda lp: lp[0] != lp[1]).count() / float(testData.count())\n",
    "print('Test error: ' + str(testErr))\n",
    "print('Learned classification tree model:')\n",
    "print(model.toDebugString())"
   ]
  },
  {
   "cell_type": "code",
   "execution_count": 13,
   "metadata": {
    "collapsed": true
   },
   "outputs": [
    {
     "name": "stdout",
     "output_type": "stream",
     "text": [
      "Test error: 0.041666666666666664\n",
      "Learned classification tree model:\n",
      "DecisionTreeModel classifier of depth 4 with 13 nodes\n",
      "  If (feature 2 <= 2.45)\n",
      "   Predict: 0.0\n",
      "  Else (feature 2 > 2.45)\n",
      "   If (feature 3 <= 1.75)\n",
      "    If (feature 2 <= 5.05)\n",
      "     Predict: 1.0\n",
      "    Else (feature 2 > 5.05)\n",
      "     If (feature 0 <= 6.05)\n",
      "      Predict: 1.0\n",
      "     Else (feature 0 > 6.05)\n",
      "      Predict: 2.0\n",
      "   Else (feature 3 > 1.75)\n",
      "    If (feature 2 <= 4.85)\n",
      "     If (feature 0 <= 5.95)\n",
      "      Predict: 1.0\n",
      "     Else (feature 0 > 5.95)\n",
      "      Predict: 2.0\n",
      "    Else (feature 2 > 4.85)\n",
      "     Predict: 2.0\n",
      "\n"
     ]
    }
   ],
   "source": [
    "#Save and load the model\n",
    "#model.save(sc, 'tmp/myDecisionTreeClassificationModel')\n",
    "#sameModel = DecisionTreeModel.load(sc, 'tmp/myDecisionTreeClassificationModel')"
   ]
  },
  {
   "cell_type": "markdown",
   "metadata": {},
   "source": [
    "---"
   ]
  },
  {
   "cell_type": "markdown",
   "metadata": {},
   "source": [
    "### Hiperparâmetros\n",
    "### Hiperparâmetros de especificação do problema\n",
    "<b>numClasses</b>: Número de classes da variável dependente (Apenas para classificação) \n",
    "\n",
    "<b>categoricalFeaturesInfo</b>: Dicionário especificando quais variáveis independentes são categóricas, não é obrigatório mas pode ajudar no tempo de treinamento do modelo\n",
    "\n",
    "### Critérios de parada do modelo\n",
    "<b>maxDepth</b>: Profundidade máxima da árvore\n",
    "\n",
    "<b>minInstancesPerNode</b>: Para que um ramo seja splitado, cada uma de suas folhas deve ter o mínimo de datapoints especificados neste parâmetro\n",
    "\n",
    "<b>minInfoGain</b>: Para que um ramo seja splitado, deve ter um ganho de informação mínimo especificado neste parâmetro\n",
    "\n",
    "### Parâmetros de tunagem\n",
    "<b>maxBins</b>: Número máximo de bins utilizado para discretizar variáveis contínuas\n",
    "\n",
    "<b>maxMemoryInMB</b>: Quantidade de memória que será utilizada para coletar estatísticas dos dados. Por padrão é 246mb para que o algoritmo rode na maioria dos ambientes. Aumentar este parâmetro pode deixar o treinamento mais rápido, se houver memória disponível\n",
    "\n",
    "<b>subsamplingRate</b>: Fração dos dados de treinamento utilizados para treinar o modelo. Este parâmetro é relevante apenas para ensembles (RandomForest ou GradientBoostedTrees)\n",
    "\n",
    "<b>impurity</b>: Especifica qual cálculo será utilizado para realizar o split 'gini' ou 'entropy'"
   ]
  },
  {
   "cell_type": "markdown",
   "metadata": {},
   "source": [
    "---"
   ]
  },
  {
   "cell_type": "markdown",
   "metadata": {},
   "source": [
    "### Árvore de decisão para classificação no pyspark.ML"
   ]
  },
  {
   "cell_type": "markdown",
   "metadata": {},
   "source": [
    "Utilizando o exemplo do dataset da pesquisa de satisfação do aeroporto de São Francisco"
   ]
  },
  {
   "cell_type": "code",
   "execution_count": 1,
   "metadata": {},
   "outputs": [],
   "source": [
    "from pyspark import SparkContext\n",
    "from pyspark import sql"
   ]
  },
  {
   "cell_type": "code",
   "execution_count": 2,
   "metadata": {},
   "outputs": [],
   "source": [
    "sc = SparkContext(master='local', appName='PesquisaSatisfacaoSFO')\n",
    "spark = sql.SparkSession(sc)"
   ]
  },
  {
   "cell_type": "code",
   "execution_count": 3,
   "metadata": {},
   "outputs": [],
   "source": [
    "# sc.stop()"
   ]
  },
  {
   "cell_type": "code",
   "execution_count": 4,
   "metadata": {},
   "outputs": [],
   "source": [
    "#Para conseguir visualizar a árvore, o spark deve ser inicializado da seguinte forma:\n",
    "# from pyspark import SparkConf, SparkContext\n",
    "# from pyspark.sql import SparkSession\n",
    "\n",
    "# jar_file = 'C:\\\\Repositorios\\\\pyspark_decision_tree\\\\spark-tree-plotting\\\\target\\\\scala-2.11\\\\spark-tree-plotting_0.2.jar'\n",
    "\n",
    "# spark = SparkSession\\\n",
    "#     .builder\\\n",
    "#     .config(\"spark.jars\", jar_file)\\\n",
    "#     .appName(\"PesquisaSatisfacaoSFO\")\\\n",
    "#     .getOrCreate()\n",
    "\n",
    "# sc = spark.sparkContext"
   ]
  },
  {
   "cell_type": "code",
   "execution_count": 5,
   "metadata": {},
   "outputs": [],
   "source": [
    "pesquisa = spark.read.csv('data//2013_SFO_Customer_Survey.csv', inferSchema=True, header=True)"
   ]
  },
  {
   "cell_type": "code",
   "execution_count": 6,
   "metadata": {},
   "outputs": [
    {
     "name": "stdout",
     "output_type": "stream",
     "text": [
      "root\n",
      " |-- RESPNUM: integer (nullable = true)\n",
      " |-- CCGID: integer (nullable = true)\n",
      " |-- RUN: integer (nullable = true)\n",
      " |-- INTDATE: integer (nullable = true)\n",
      " |-- GATE: integer (nullable = true)\n",
      " |-- STRATA: integer (nullable = true)\n",
      " |-- PEAK: integer (nullable = true)\n",
      " |-- METHOD: integer (nullable = true)\n",
      " |-- AIRLINE: integer (nullable = true)\n",
      " |-- FLIGHT: integer (nullable = true)\n",
      " |-- DEST: integer (nullable = true)\n",
      " |-- DESTGEO: integer (nullable = true)\n",
      " |-- DESTMARK: integer (nullable = true)\n",
      " |-- ARRTIME: string (nullable = true)\n",
      " |-- DEPTIME: string (nullable = true)\n",
      " |-- Q2PURP1: integer (nullable = true)\n",
      " |-- Q2PURP2: integer (nullable = true)\n",
      " |-- Q2PURP3: integer (nullable = true)\n",
      " |-- Q2PURP4: integer (nullable = true)\n",
      " |-- Q2PURP5: integer (nullable = true)\n",
      " |-- Q2PURP6: string (nullable = true)\n",
      " |-- Q3GETTO1: integer (nullable = true)\n",
      " |-- Q3GETTO2: integer (nullable = true)\n",
      " |-- Q3GETTO3: integer (nullable = true)\n",
      " |-- Q3GETTO4: integer (nullable = true)\n",
      " |-- Q3GETTO5: string (nullable = true)\n",
      " |-- Q3GETTO6: string (nullable = true)\n",
      " |-- Q3PARK: integer (nullable = true)\n",
      " |-- Q4BAGS: integer (nullable = true)\n",
      " |-- Q4BUY: integer (nullable = true)\n",
      " |-- Q4FOOD: integer (nullable = true)\n",
      " |-- Q4WIFI: integer (nullable = true)\n",
      " |-- Q5FLYPERYR: integer (nullable = true)\n",
      " |-- Q6TENURE: double (nullable = true)\n",
      " |-- SAQ: integer (nullable = true)\n",
      " |-- Q7A_ART: integer (nullable = true)\n",
      " |-- Q7B_FOOD: integer (nullable = true)\n",
      " |-- Q7C_SHOPS: integer (nullable = true)\n",
      " |-- Q7D_SIGNS: integer (nullable = true)\n",
      " |-- Q7E_WALK: integer (nullable = true)\n",
      " |-- Q7F_SCREENS: integer (nullable = true)\n",
      " |-- Q7G_INFOARR: integer (nullable = true)\n",
      " |-- Q7H_INFODEP: integer (nullable = true)\n",
      " |-- Q7I_WIFI: integer (nullable = true)\n",
      " |-- Q7J_ROAD: integer (nullable = true)\n",
      " |-- Q7K_PARK: integer (nullable = true)\n",
      " |-- Q7L_AIRTRAIN: integer (nullable = true)\n",
      " |-- Q7M_LTPARK: integer (nullable = true)\n",
      " |-- Q7N_RENTAL: integer (nullable = true)\n",
      " |-- Q7O_WHOLE: integer (nullable = true)\n",
      " |-- Q8COM1: integer (nullable = true)\n",
      " |-- Q8COM2: integer (nullable = true)\n",
      " |-- Q8COM3: integer (nullable = true)\n",
      " |-- Q9A_CLNBOARD: integer (nullable = true)\n",
      " |-- Q9B_CLNAIRTRAIN: integer (nullable = true)\n",
      " |-- Q9C_CLNRENT: integer (nullable = true)\n",
      " |-- Q9D_CLNFOOD: integer (nullable = true)\n",
      " |-- Q9E_CLNBATH: integer (nullable = true)\n",
      " |-- Q9F_CLNWHOLE: integer (nullable = true)\n",
      " |-- Q9COM1: integer (nullable = true)\n",
      " |-- Q9COM2: integer (nullable = true)\n",
      " |-- Q9COM3: integer (nullable = true)\n",
      " |-- Q10SAFE: integer (nullable = true)\n",
      " |-- Q10COM1: integer (nullable = true)\n",
      " |-- Q10COM2: integer (nullable = true)\n",
      " |-- Q10COM3: integer (nullable = true)\n",
      " |-- Q11A_USEWEB: integer (nullable = true)\n",
      " |-- Q11B_USESFOAPP: integer (nullable = true)\n",
      " |-- Q11C_USEOTHAPP: integer (nullable = true)\n",
      " |-- Q11D_USESOCMED: integer (nullable = true)\n",
      " |-- Q11E_USEWIFI: integer (nullable = true)\n",
      " |-- Q12COM1: integer (nullable = true)\n",
      " |-- Q12COM2: integer (nullable = true)\n",
      " |-- Q12COM3: integer (nullable = true)\n",
      " |-- Q13_WHEREDEPART: integer (nullable = true)\n",
      " |-- Q13_RATEGETTO: integer (nullable = true)\n",
      " |-- Q14A_FIND: integer (nullable = true)\n",
      " |-- Q14B_SECURITY: integer (nullable = true)\n",
      " |-- Q15_PROBLEMS: integer (nullable = true)\n",
      " |-- Q15COM1: integer (nullable = true)\n",
      " |-- Q15COM2: integer (nullable = true)\n",
      " |-- Q15COM3: integer (nullable = true)\n",
      " |-- Q16_REGION: integer (nullable = true)\n",
      " |-- Q17_CITY: string (nullable = true)\n",
      " |-- Q17_ZIP: integer (nullable = true)\n",
      " |-- Q17_COUNTRY: string (nullable = true)\n",
      " |-- HOME: integer (nullable = true)\n",
      " |-- Q18_AGE: integer (nullable = true)\n",
      " |-- Q19_SEX: integer (nullable = true)\n",
      " |-- Q20_INCOME: integer (nullable = true)\n",
      " |-- Q21_HIFLYER: integer (nullable = true)\n",
      " |-- Q22A_USESJC: integer (nullable = true)\n",
      " |-- Q22B_USEOAK: integer (nullable = true)\n",
      " |-- LANG: integer (nullable = true)\n",
      " |-- WEIGHT: double (nullable = true)\n",
      "\n"
     ]
    }
   ],
   "source": [
    "pesquisa.printSchema()"
   ]
  },
  {
   "cell_type": "code",
   "execution_count": 7,
   "metadata": {},
   "outputs": [],
   "source": [
    "colunasEstudo = pesquisa.columns[35:50]\n",
    "df = pesquisa.select(colunasEstudo)"
   ]
  },
  {
   "cell_type": "markdown",
   "metadata": {},
   "source": [
    "---"
   ]
  },
  {
   "cell_type": "code",
   "execution_count": 8,
   "metadata": {},
   "outputs": [
    {
     "data": {
      "text/plain": [
       "['mean(Q7A_ART) Q7A_ART',\n",
       " 'mean(Q7B_FOOD) Q7B_FOOD',\n",
       " 'mean(Q7C_SHOPS) Q7C_SHOPS',\n",
       " 'mean(Q7D_SIGNS) Q7D_SIGNS',\n",
       " 'mean(Q7E_WALK) Q7E_WALK']"
      ]
     },
     "execution_count": 8,
     "metadata": {},
     "output_type": "execute_result"
    }
   ],
   "source": [
    "map_medias = map(lambda col: 'mean(' + col + ') ' + col, colunasEstudo)\n",
    "medias = list(map_medias)\n",
    "medias[:5]"
   ]
  },
  {
   "cell_type": "code",
   "execution_count": 9,
   "metadata": {},
   "outputs": [],
   "source": [
    "df_medias = df.selectExpr(medias)"
   ]
  },
  {
   "cell_type": "code",
   "execution_count": 10,
   "metadata": {},
   "outputs": [
    {
     "data": {
      "text/html": [
       "<div>\n",
       "<style scoped>\n",
       "    .dataframe tbody tr th:only-of-type {\n",
       "        vertical-align: middle;\n",
       "    }\n",
       "\n",
       "    .dataframe tbody tr th {\n",
       "        vertical-align: top;\n",
       "    }\n",
       "\n",
       "    .dataframe thead th {\n",
       "        text-align: right;\n",
       "    }\n",
       "</style>\n",
       "<table border=\"1\" class=\"dataframe\">\n",
       "  <thead>\n",
       "    <tr style=\"text-align: right;\">\n",
       "      <th></th>\n",
       "      <th>Q7A_ART</th>\n",
       "      <th>Q7B_FOOD</th>\n",
       "      <th>Q7C_SHOPS</th>\n",
       "      <th>Q7D_SIGNS</th>\n",
       "      <th>Q7E_WALK</th>\n",
       "      <th>Q7F_SCREENS</th>\n",
       "      <th>Q7G_INFOARR</th>\n",
       "      <th>Q7H_INFODEP</th>\n",
       "      <th>Q7I_WIFI</th>\n",
       "      <th>Q7J_ROAD</th>\n",
       "      <th>Q7K_PARK</th>\n",
       "      <th>Q7L_AIRTRAIN</th>\n",
       "      <th>Q7M_LTPARK</th>\n",
       "      <th>Q7N_RENTAL</th>\n",
       "      <th>Q7O_WHOLE</th>\n",
       "    </tr>\n",
       "  </thead>\n",
       "  <tbody>\n",
       "    <tr>\n",
       "      <th>0</th>\n",
       "      <td>4.300707</td>\n",
       "      <td>3.951909</td>\n",
       "      <td>3.921641</td>\n",
       "      <td>3.931542</td>\n",
       "      <td>4.114851</td>\n",
       "      <td>4.029986</td>\n",
       "      <td>4.645262</td>\n",
       "      <td>4.667044</td>\n",
       "      <td>4.27157</td>\n",
       "      <td>4.501839</td>\n",
       "      <td>4.82546</td>\n",
       "      <td>4.83819</td>\n",
       "      <td>5.032815</td>\n",
       "      <td>4.92645</td>\n",
       "      <td>3.874399</td>\n",
       "    </tr>\n",
       "  </tbody>\n",
       "</table>\n",
       "</div>"
      ],
      "text/plain": [
       "    Q7A_ART  Q7B_FOOD  Q7C_SHOPS  Q7D_SIGNS  Q7E_WALK  Q7F_SCREENS  \\\n",
       "0  4.300707  3.951909   3.921641   3.931542  4.114851     4.029986   \n",
       "\n",
       "   Q7G_INFOARR  Q7H_INFODEP  Q7I_WIFI  Q7J_ROAD  Q7K_PARK  Q7L_AIRTRAIN  \\\n",
       "0     4.645262     4.667044   4.27157  4.501839   4.82546       4.83819   \n",
       "\n",
       "   Q7M_LTPARK  Q7N_RENTAL  Q7O_WHOLE  \n",
       "0    5.032815     4.92645   3.874399  "
      ]
     },
     "execution_count": 10,
     "metadata": {},
     "output_type": "execute_result"
    }
   ],
   "source": [
    "df_medias.toPandas()"
   ]
  },
  {
   "cell_type": "markdown",
   "metadata": {},
   "source": [
    "---"
   ]
  },
  {
   "cell_type": "code",
   "execution_count": 11,
   "metadata": {},
   "outputs": [
    {
     "name": "stdout",
     "output_type": "stream",
     "text": [
      "+------------------+\n",
      "|         Q7O_WHOLE|\n",
      "+------------------+\n",
      "|3.8743988684582744|\n",
      "+------------------+\n",
      "\n"
     ]
    }
   ],
   "source": [
    "df.selectExpr('mean(Q7O_WHOLE) Q7O_WHOLE').show()"
   ]
  },
  {
   "cell_type": "markdown",
   "metadata": {},
   "source": [
    "---"
   ]
  },
  {
   "cell_type": "code",
   "execution_count": 12,
   "metadata": {},
   "outputs": [],
   "source": [
    "treinamento = df.withColumn('label', df['Q7O_WHOLE']*1.0).na.replace(0,3).replace(6,3)"
   ]
  },
  {
   "cell_type": "code",
   "execution_count": 13,
   "metadata": {},
   "outputs": [
    {
     "data": {
      "text/html": [
       "<div>\n",
       "<style scoped>\n",
       "    .dataframe tbody tr th:only-of-type {\n",
       "        vertical-align: middle;\n",
       "    }\n",
       "\n",
       "    .dataframe tbody tr th {\n",
       "        vertical-align: top;\n",
       "    }\n",
       "\n",
       "    .dataframe thead th {\n",
       "        text-align: right;\n",
       "    }\n",
       "</style>\n",
       "<table border=\"1\" class=\"dataframe\">\n",
       "  <thead>\n",
       "    <tr style=\"text-align: right;\">\n",
       "      <th></th>\n",
       "      <th>Q7A_ART</th>\n",
       "      <th>Q7B_FOOD</th>\n",
       "      <th>Q7C_SHOPS</th>\n",
       "      <th>Q7D_SIGNS</th>\n",
       "      <th>Q7E_WALK</th>\n",
       "      <th>Q7F_SCREENS</th>\n",
       "      <th>Q7G_INFOARR</th>\n",
       "      <th>Q7H_INFODEP</th>\n",
       "      <th>Q7I_WIFI</th>\n",
       "      <th>Q7J_ROAD</th>\n",
       "      <th>Q7K_PARK</th>\n",
       "      <th>Q7L_AIRTRAIN</th>\n",
       "      <th>Q7M_LTPARK</th>\n",
       "      <th>Q7N_RENTAL</th>\n",
       "      <th>Q7O_WHOLE</th>\n",
       "      <th>label</th>\n",
       "    </tr>\n",
       "  </thead>\n",
       "  <tbody>\n",
       "    <tr>\n",
       "      <th>0</th>\n",
       "      <td>3</td>\n",
       "      <td>4</td>\n",
       "      <td>3</td>\n",
       "      <td>3</td>\n",
       "      <td>3</td>\n",
       "      <td>3</td>\n",
       "      <td>3</td>\n",
       "      <td>3</td>\n",
       "      <td>3</td>\n",
       "      <td>3</td>\n",
       "      <td>3</td>\n",
       "      <td>3</td>\n",
       "      <td>3</td>\n",
       "      <td>3</td>\n",
       "      <td>3</td>\n",
       "      <td>3.0</td>\n",
       "    </tr>\n",
       "  </tbody>\n",
       "</table>\n",
       "</div>"
      ],
      "text/plain": [
       "   Q7A_ART  Q7B_FOOD  Q7C_SHOPS  Q7D_SIGNS  Q7E_WALK  Q7F_SCREENS  \\\n",
       "0        3         4          3          3         3            3   \n",
       "\n",
       "   Q7G_INFOARR  Q7H_INFODEP  Q7I_WIFI  Q7J_ROAD  Q7K_PARK  Q7L_AIRTRAIN  \\\n",
       "0            3            3         3         3         3             3   \n",
       "\n",
       "   Q7M_LTPARK  Q7N_RENTAL  Q7O_WHOLE  label  \n",
       "0           3           3          3    3.0  "
      ]
     },
     "execution_count": 13,
     "metadata": {},
     "output_type": "execute_result"
    }
   ],
   "source": [
    "treinamento.limit(1).toPandas()"
   ]
  },
  {
   "cell_type": "code",
   "execution_count": 14,
   "metadata": {},
   "outputs": [],
   "source": [
    "from pyspark.ml import Pipeline\n",
    "from pyspark.ml.feature import VectorAssembler\n",
    "from pyspark.ml.regression import DecisionTreeRegressor\n",
    "from pyspark.ml.tuning import ParamGridBuilder, CrossValidator\n",
    "from pyspark.ml.evaluation import RegressionEvaluator\n",
    "\n",
    "colunasInput = colunasEstudo[0:-1]\n",
    "va = VectorAssembler(inputCols=colunasInput, outputCol='features')\n",
    "dtreg = DecisionTreeRegressor(labelCol='label', featuresCol='features', maxDepth=4)\n",
    "evaluator = RegressionEvaluator(metricName='rmse', labelCol='label')\n",
    "grid = ParamGridBuilder().addGrid(dtreg.maxDepth, [3, 5, 7, 10]).build()\n",
    "cv = CrossValidator(estimator=dtreg, estimatorParamMaps=grid, evaluator=evaluator, numFolds=10)\n",
    "pipeline = Pipeline(stages=[va, dtreg])"
   ]
  },
  {
   "cell_type": "code",
   "execution_count": 15,
   "metadata": {},
   "outputs": [],
   "source": [
    "modelo = pipeline.fit(treinamento)"
   ]
  },
  {
   "cell_type": "code",
   "execution_count": 16,
   "metadata": {},
   "outputs": [
    {
     "data": {
      "text/plain": [
       "DecisionTreeRegressionModel (uid=DecisionTreeRegressor_e70b928fd122) of depth 4 with 31 nodes"
      ]
     },
     "metadata": {},
     "output_type": "display_data"
    }
   ],
   "source": [
    "display(modelo.stages[1])"
   ]
  },
  {
   "cell_type": "code",
   "execution_count": 17,
   "metadata": {},
   "outputs": [],
   "source": [
    "predicoes = modelo.transform(treinamento)"
   ]
  },
  {
   "cell_type": "code",
   "execution_count": 18,
   "metadata": {},
   "outputs": [
    {
     "data": {
      "text/html": [
       "<div>\n",
       "<style scoped>\n",
       "    .dataframe tbody tr th:only-of-type {\n",
       "        vertical-align: middle;\n",
       "    }\n",
       "\n",
       "    .dataframe tbody tr th {\n",
       "        vertical-align: top;\n",
       "    }\n",
       "\n",
       "    .dataframe thead th {\n",
       "        text-align: right;\n",
       "    }\n",
       "</style>\n",
       "<table border=\"1\" class=\"dataframe\">\n",
       "  <thead>\n",
       "    <tr style=\"text-align: right;\">\n",
       "      <th></th>\n",
       "      <th>Q7A_ART</th>\n",
       "      <th>Q7B_FOOD</th>\n",
       "      <th>Q7C_SHOPS</th>\n",
       "      <th>Q7D_SIGNS</th>\n",
       "      <th>Q7E_WALK</th>\n",
       "      <th>Q7F_SCREENS</th>\n",
       "      <th>Q7G_INFOARR</th>\n",
       "      <th>Q7H_INFODEP</th>\n",
       "      <th>Q7I_WIFI</th>\n",
       "      <th>Q7J_ROAD</th>\n",
       "      <th>Q7K_PARK</th>\n",
       "      <th>Q7L_AIRTRAIN</th>\n",
       "      <th>Q7M_LTPARK</th>\n",
       "      <th>Q7N_RENTAL</th>\n",
       "      <th>Q7O_WHOLE</th>\n",
       "      <th>label</th>\n",
       "      <th>features</th>\n",
       "      <th>prediction</th>\n",
       "    </tr>\n",
       "  </thead>\n",
       "  <tbody>\n",
       "    <tr>\n",
       "      <th>0</th>\n",
       "      <td>3</td>\n",
       "      <td>4</td>\n",
       "      <td>3</td>\n",
       "      <td>3</td>\n",
       "      <td>3</td>\n",
       "      <td>3</td>\n",
       "      <td>3</td>\n",
       "      <td>3</td>\n",
       "      <td>3</td>\n",
       "      <td>3</td>\n",
       "      <td>3</td>\n",
       "      <td>3</td>\n",
       "      <td>3</td>\n",
       "      <td>3</td>\n",
       "      <td>3</td>\n",
       "      <td>3.0</td>\n",
       "      <td>[3.0, 4.0, 3.0, 3.0, 3.0, 3.0, 3.0, 3.0, 3.0, ...</td>\n",
       "      <td>3.676829</td>\n",
       "    </tr>\n",
       "  </tbody>\n",
       "</table>\n",
       "</div>"
      ],
      "text/plain": [
       "   Q7A_ART  Q7B_FOOD  Q7C_SHOPS  Q7D_SIGNS  Q7E_WALK  Q7F_SCREENS  \\\n",
       "0        3         4          3          3         3            3   \n",
       "\n",
       "   Q7G_INFOARR  Q7H_INFODEP  Q7I_WIFI  Q7J_ROAD  Q7K_PARK  Q7L_AIRTRAIN  \\\n",
       "0            3            3         3         3         3             3   \n",
       "\n",
       "   Q7M_LTPARK  Q7N_RENTAL  Q7O_WHOLE  label  \\\n",
       "0           3           3          3    3.0   \n",
       "\n",
       "                                            features  prediction  \n",
       "0  [3.0, 4.0, 3.0, 3.0, 3.0, 3.0, 3.0, 3.0, 3.0, ...    3.676829  "
      ]
     },
     "execution_count": 18,
     "metadata": {},
     "output_type": "execute_result"
    }
   ],
   "source": [
    "predicoes.limit(1).toPandas()"
   ]
  },
  {
   "cell_type": "code",
   "execution_count": 19,
   "metadata": {},
   "outputs": [
    {
     "data": {
      "text/plain": [
       "0.555808023551782"
      ]
     },
     "execution_count": 19,
     "metadata": {},
     "output_type": "execute_result"
    }
   ],
   "source": [
    "avaliador = RegressionEvaluator()\n",
    "avaliador.evaluate(predicoes, {evaluator.metricName: 'rmse'})"
   ]
  },
  {
   "cell_type": "markdown",
   "metadata": {},
   "source": [
    "### feature importance"
   ]
  },
  {
   "cell_type": "code",
   "execution_count": 20,
   "metadata": {
    "scrolled": true
   },
   "outputs": [
    {
     "data": {
      "text/plain": [
       "SparseVector(14, {0: 0.0653, 1: 0.1173, 2: 0.0099, 3: 0.5219, 4: 0.0052, 5: 0.2403, 8: 0.0028, 10: 0.0059, 13: 0.0314})"
      ]
     },
     "execution_count": 20,
     "metadata": {},
     "output_type": "execute_result"
    }
   ],
   "source": [
    "#Visualização das importâncias das features\n",
    "modelo.stages[1].featureImportances"
   ]
  },
  {
   "cell_type": "code",
   "execution_count": 21,
   "metadata": {},
   "outputs": [],
   "source": [
    "#Extrai featureImportances para um array np\n",
    "importanciaFeatures = modelo.stages[1].featureImportances.toArray()"
   ]
  },
  {
   "cell_type": "code",
   "execution_count": 22,
   "metadata": {},
   "outputs": [
    {
     "data": {
      "text/plain": [
       "array([0.06525145, 0.11726446, 0.0099403 , 0.52193029, 0.00523214,\n",
       "       0.24034459, 0.        , 0.        , 0.0027749 , 0.        ,\n",
       "       0.00585446, 0.        , 0.        , 0.03140742])"
      ]
     },
     "execution_count": 22,
     "metadata": {},
     "output_type": "execute_result"
    }
   ],
   "source": [
    "importanciaFeatures"
   ]
  },
  {
   "cell_type": "code",
   "execution_count": 23,
   "metadata": {},
   "outputs": [],
   "source": [
    "#Utiliza a função map para iterar pelos campos do dataframe e extrair o nome de cada campo\n",
    "nomeFeatures = map(lambda feat: feat.name, df.schema.fields)"
   ]
  },
  {
   "cell_type": "code",
   "execution_count": 24,
   "metadata": {},
   "outputs": [],
   "source": [
    "#Concatena o map dos nomes dos campos com os valores de importância\n",
    "importanciaFeaturesMap = zip(importanciaFeatures, nomeFeatures)"
   ]
  },
  {
   "cell_type": "code",
   "execution_count": 25,
   "metadata": {},
   "outputs": [
    {
     "data": {
      "text/plain": [
       "<zip at 0x12abc203748>"
      ]
     },
     "execution_count": 25,
     "metadata": {},
     "output_type": "execute_result"
    }
   ],
   "source": [
    "importanciaFeaturesMap"
   ]
  },
  {
   "cell_type": "code",
   "execution_count": 26,
   "metadata": {},
   "outputs": [],
   "source": [
    "#Cria um dataframe trocando de posição (nome da feature antes, valor de importância depois)\n",
    "dfImportanciaFeatures = spark.createDataFrame(sc.parallelize(importanciaFeaturesMap).map(lambda r: [r[1], float(r[0])]))"
   ]
  },
  {
   "cell_type": "code",
   "execution_count": 27,
   "metadata": {},
   "outputs": [],
   "source": [
    "#Renomeia colunas do dataframe\n",
    "dfImportanciaFeatures = dfImportanciaFeatures.withColumnRenamed('_1', 'Feature').withColumnRenamed('_2', 'Importancia')"
   ]
  },
  {
   "cell_type": "code",
   "execution_count": 28,
   "metadata": {},
   "outputs": [
    {
     "name": "stdout",
     "output_type": "stream",
     "text": [
      "+------------+--------------------+\n",
      "|     Feature|         Importancia|\n",
      "+------------+--------------------+\n",
      "|Q7L_AIRTRAIN|                 0.0|\n",
      "| Q7H_INFODEP|                 0.0|\n",
      "|  Q7M_LTPARK|                 0.0|\n",
      "|    Q7J_ROAD|                 0.0|\n",
      "| Q7G_INFOARR|                 0.0|\n",
      "|    Q7I_WIFI|0.002774900310175427|\n",
      "|    Q7E_WALK|0.005232136454289954|\n",
      "|    Q7K_PARK|0.005854457703262646|\n",
      "|   Q7C_SHOPS|0.009940295196927703|\n",
      "|  Q7N_RENTAL| 0.03140742223542566|\n",
      "|     Q7A_ART| 0.06525145453249198|\n",
      "|    Q7B_FOOD| 0.11726445589519406|\n",
      "| Q7F_SCREENS|   0.240344587239121|\n",
      "|   Q7D_SIGNS|  0.5219302904331116|\n",
      "+------------+--------------------+\n",
      "\n"
     ]
    }
   ],
   "source": [
    "dfImportanciaFeatures.orderBy('Importancia').show()"
   ]
  },
  {
   "cell_type": "markdown",
   "metadata": {},
   "source": [
    "### Visualização da árvore"
   ]
  },
  {
   "cell_type": "markdown",
   "metadata": {},
   "source": [
    "Instalação manual da biblioteca que gera a visualização, necessário instalar o sbt\n",
    "\n",
    "git clone https://github.com/julioasotodv/spark-tree-plotting.git\n",
    "\n",
    "cd spark-tree-plotting\n",
    "\n",
    "sbt assembly"
   ]
  },
  {
   "cell_type": "code",
   "execution_count": 29,
   "metadata": {},
   "outputs": [],
   "source": [
    "arvore = modelo.stages[1]"
   ]
  },
  {
   "cell_type": "code",
   "execution_count": 32,
   "metadata": {},
   "outputs": [],
   "source": [
    "#Representação em texto da árvore\n",
    "arvore_str = arvore.toDebugString"
   ]
  },
  {
   "cell_type": "markdown",
   "metadata": {},
   "source": [
    "---"
   ]
  },
  {
   "cell_type": "code",
   "execution_count": 35,
   "metadata": {},
   "outputs": [],
   "source": [
    "import json\n",
    "\n",
    "# Parser\n",
    "def parse(lines):\n",
    "    block = []\n",
    "    while lines :\n",
    "\n",
    "        if lines[0].startswith('If'):\n",
    "            bl = ' '.join(lines.pop(0).split()[1:]).replace('(', '').replace(')', '')\n",
    "            block.append({'name':bl, 'children':parse(lines)})\n",
    "\n",
    "\n",
    "            if lines[0].startswith('Else'):\n",
    "                be = ' '.join(lines.pop(0).split()[1:]).replace('(', '').replace(')', '')\n",
    "                block.append({'name':be, 'children':parse(lines)})\n",
    "        elif not lines[0].startswith(('If','Else')):\n",
    "            block2 = lines.pop(0)\n",
    "            block.append({'name':block2})\n",
    "        else:\n",
    "            break\t\n",
    "    return block\n",
    "\n",
    "# Convert Tree to JSON\n",
    "def tree_json(tree):\n",
    "    data = []\n",
    "    for line in tree.splitlines() : \n",
    "        if line.strip():\n",
    "            line = line.strip()\n",
    "            data.append(line)\n",
    "        else : break\n",
    "        if not line : break\n",
    "    res = []\n",
    "    res.append({'name':'Root', 'children':parse(data[1:])})\n",
    "    with open('C:\\Repositorios\\pyspark_decision_tree\\structure.json', 'w') as outfile:\n",
    "        json.dump(res[0], outfile)\n",
    "    print ('Conversion Success !')"
   ]
  },
  {
   "cell_type": "code",
   "execution_count": 36,
   "metadata": {},
   "outputs": [
    {
     "name": "stdout",
     "output_type": "stream",
     "text": [
      "Conversion Success !\n"
     ]
    }
   ],
   "source": [
    "tree_json(arvore_str)"
   ]
  }
 ],
 "metadata": {
  "kernelspec": {
   "display_name": "Python 3",
   "language": "python",
   "name": "python3"
  },
  "language_info": {
   "codemirror_mode": {
    "name": "ipython",
    "version": 3
   },
   "file_extension": ".py",
   "mimetype": "text/x-python",
   "name": "python",
   "nbconvert_exporter": "python",
   "pygments_lexer": "ipython3",
   "version": "3.7.7"
  }
 },
 "nbformat": 4,
 "nbformat_minor": 4
}
