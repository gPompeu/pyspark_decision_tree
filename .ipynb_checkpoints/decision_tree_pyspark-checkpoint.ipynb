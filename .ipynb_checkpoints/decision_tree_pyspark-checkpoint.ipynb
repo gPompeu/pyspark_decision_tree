{
 "cells": [
  {
   "cell_type": "markdown",
   "metadata": {},
   "source": [
    "### Inicialização do pyspark"
   ]
  },
  {
   "cell_type": "code",
   "execution_count": 2,
   "metadata": {},
   "outputs": [],
   "source": [
    "import pyspark\n",
    "from pyspark.mllib.tree import DecisionTree, DecisionTreeModel\n",
    "from pyspark.mllib.util import MLUtils\n",
    "\n",
    "spark = pyspark.sql.SparkSession.builder.appName('decision_tree').getOrCreate()\n",
    "sc = spark.sparkContext"
   ]
  },
  {
   "cell_type": "markdown",
   "metadata": {},
   "source": [
    "### Implementação de árvore de decisão para classificação"
   ]
  },
  {
   "cell_type": "code",
   "execution_count": 3,
   "metadata": {},
   "outputs": [],
   "source": [
    "#Carrega e processo os dados para dentro de um RDD de LabeledPoint\n",
    "data = MLUtils.loadLibSVMFile(sc, 'data/iris_libsvm.txt')\n",
    "\n",
    "#Separa os dados em treino e teste\n",
    "(trainingData, testData) = data.randomSplit([0.7, 0.3])"
   ]
  },
  {
   "cell_type": "code",
   "execution_count": 9,
   "metadata": {},
   "outputs": [
    {
     "data": {
      "text/plain": [
       "LabeledPoint(0.0, (4,[0,1,2,3],[4.7,3.2,1.3,0.2]))"
      ]
     },
     "execution_count": 9,
     "metadata": {},
     "output_type": "execute_result"
    }
   ],
   "source": [
    "data.collect()[2]"
   ]
  },
  {
   "cell_type": "code",
   "execution_count": 14,
   "metadata": {},
   "outputs": [
    {
     "name": "stdout",
     "output_type": "stream",
     "text": [
      "Test error: 0.041666666666666664\n",
      "Learned classification tree model:\n",
      "DecisionTreeModel classifier of depth 4 with 13 nodes\n",
      "  If (feature 2 <= 2.45)\n",
      "   Predict: 0.0\n",
      "  Else (feature 2 > 2.45)\n",
      "   If (feature 3 <= 1.75)\n",
      "    If (feature 2 <= 5.05)\n",
      "     Predict: 1.0\n",
      "    Else (feature 2 > 5.05)\n",
      "     If (feature 0 <= 6.05)\n",
      "      Predict: 1.0\n",
      "     Else (feature 0 > 6.05)\n",
      "      Predict: 2.0\n",
      "   Else (feature 3 > 1.75)\n",
      "    If (feature 2 <= 4.85)\n",
      "     If (feature 0 <= 5.95)\n",
      "      Predict: 1.0\n",
      "     Else (feature 0 > 5.95)\n",
      "      Predict: 2.0\n",
      "    Else (feature 2 > 4.85)\n",
      "     Predict: 2.0\n",
      "\n"
     ]
    }
   ],
   "source": [
    "#Treina o modelo\n",
    "#categoricalFeaturesInfo vazio indica que todas as features são contínuas\n",
    "model = DecisionTree.trainClassifier(trainingData, numClasses=3, categoricalFeaturesInfo={}\n",
    "                                    , impurity='gini', maxDepth=5, maxBins=32)\n",
    "\n",
    "#Valida o modelo em instâncias de teste e calcula o erro no teste\n",
    "predictions = model.predict(testData.map(lambda x: x.features))\n",
    "labelsAndPredictions = testData.map(lambda lp: lp.label).zip(predictions)\n",
    "testErr = labelsAndPredictions.filter(\n",
    "    lambda lp: lp[0] != lp[1]).count() / float(testData.count())\n",
    "print('Test error: ' + str(testErr))\n",
    "print('Learned classification tree model:')\n",
    "print(model.toDebugString())"
   ]
  },
  {
   "cell_type": "code",
   "execution_count": 13,
   "metadata": {
    "collapsed": true
   },
   "outputs": [
    {
     "name": "stdout",
     "output_type": "stream",
     "text": [
      "Test error: 0.041666666666666664\n",
      "Learned classification tree model:\n",
      "DecisionTreeModel classifier of depth 4 with 13 nodes\n",
      "  If (feature 2 <= 2.45)\n",
      "   Predict: 0.0\n",
      "  Else (feature 2 > 2.45)\n",
      "   If (feature 3 <= 1.75)\n",
      "    If (feature 2 <= 5.05)\n",
      "     Predict: 1.0\n",
      "    Else (feature 2 > 5.05)\n",
      "     If (feature 0 <= 6.05)\n",
      "      Predict: 1.0\n",
      "     Else (feature 0 > 6.05)\n",
      "      Predict: 2.0\n",
      "   Else (feature 3 > 1.75)\n",
      "    If (feature 2 <= 4.85)\n",
      "     If (feature 0 <= 5.95)\n",
      "      Predict: 1.0\n",
      "     Else (feature 0 > 5.95)\n",
      "      Predict: 2.0\n",
      "    Else (feature 2 > 4.85)\n",
      "     Predict: 2.0\n",
      "\n"
     ]
    }
   ],
   "source": [
    "#Save and load the model\n",
    "#model.save(sc, 'tmp/myDecisionTreeClassificationModel')\n",
    "#sameModel = DecisionTreeModel.load(sc, 'tmp/myDecisionTreeClassificationModel')"
   ]
  },
  {
   "cell_type": "markdown",
   "metadata": {},
   "source": [
    "---"
   ]
  },
  {
   "cell_type": "markdown",
   "metadata": {},
   "source": [
    "### Hiperparâmetros\n",
    "### Hiperparâmetros de especificação do problema\n",
    "<b>numClasses</b>: Número de classes da variável dependente (Apenas para classificação) \n",
    "\n",
    "<b>categoricalFeaturesInfo</b>: Dicionário especificando quais variáveis independentes são categóricas, não é obrigatório mas pode ajudar no tempo de treinamento do modelo\n",
    "\n",
    "### Critérios de parada do modelo\n",
    "<b>maxDepth</b>: Profundidade máxima da árvore\n",
    "\n",
    "<b>minInstancesPerNode</b>: Para que um ramo seja splitado, cada uma de suas folhas deve ter o mínimo de datapoints especificados neste parâmetro\n",
    "\n",
    "<b>minInfoGain</b>: Para que um ramo seja splitado, deve ter um ganho de informação mínimo especificado neste parâmetro\n",
    "\n",
    "### Parâmetros de tunagem\n",
    "<b>maxBins</b>: Número máximo de bins utilizado para discretizar variáveis contínuas\n",
    "\n",
    "<b>maxMemoryInMB</b>: Quantidade de memória que será utilizada para coletar estatísticas dos dados. Por padrão é 246mb para que o algoritmo rode na maioria dos ambientes. Aumentar este parâmetro pode deixar o treinamento mais rápido, se houver memória disponível\n",
    "\n",
    "<b>subsamplingRate</b>: Fração dos dados de treinamento utilizados para treinar o modelo. Este parâmetro é relevante apenas para ensembles (RandomForest ou GradientBoostedTrees)\n",
    "\n",
    "<b>impurity</b>: Especifica qual cálculo será utilizado para realizar o split 'gini' ou 'entropy'"
   ]
  },
  {
   "cell_type": "markdown",
   "metadata": {},
   "source": [
    "---"
   ]
  },
  {
   "cell_type": "markdown",
   "metadata": {},
   "source": [
    "### Exemplo\n",
    "\n",
    "https://www.timlrx.com/2018/06/19/feature-selection-using-feature-importance-score-creating-a-pyspark-estimator/"
   ]
  },
  {
   "cell_type": "code",
   "execution_count": 16,
   "metadata": {},
   "outputs": [],
   "source": [
    "from IPython.core.interactiveshell import InteractiveShell\n",
    "InteractiveShell.ast_node_interactivity = \"all\"\n",
    "\n",
    "import numpy as np\n",
    "import pandas as pd\n",
    "pd.options.display.max_columns = None\n",
    "\n",
    "from pyspark import SparkContext\n",
    "from pyspark import SQLContext"
   ]
  },
  {
   "cell_type": "code",
   "execution_count": 18,
   "metadata": {},
   "outputs": [],
   "source": [
    "#sc = SparkContext()\n",
    "spark = SQLContext(sc)"
   ]
  },
  {
   "cell_type": "code",
   "execution_count": 19,
   "metadata": {},
   "outputs": [],
   "source": [
    "from pyspark.sql.functions import *\n",
    "from pyspark.ml.classification import  RandomForestClassifier\n",
    "from pyspark.ml.feature import StringIndexer, OneHotEncoderEstimator, VectorAssembler, VectorSlicer\n",
    "from pyspark.ml import Pipeline\n",
    "from pyspark.ml.evaluation import BinaryClassificationEvaluator\n",
    "from pyspark.ml.linalg import Vectors\n",
    "from pyspark.ml.tuning import ParamGridBuilder, TrainValidationSplit"
   ]
  },
  {
   "cell_type": "code",
   "execution_count": 22,
   "metadata": {},
   "outputs": [],
   "source": [
    "df = spark.read.option(\"delimiter\", \";\").csv(\"data/bank-additional/bank-additional-full.csv\", header=True, inferSchema = True)"
   ]
  },
  {
   "cell_type": "code",
   "execution_count": null,
   "metadata": {},
   "outputs": [],
   "source": []
  }
 ],
 "metadata": {
  "kernelspec": {
   "display_name": "Python 3",
   "language": "python",
   "name": "python3"
  },
  "language_info": {
   "codemirror_mode": {
    "name": "ipython",
    "version": 3
   },
   "file_extension": ".py",
   "mimetype": "text/x-python",
   "name": "python",
   "nbconvert_exporter": "python",
   "pygments_lexer": "ipython3",
   "version": "3.7.7"
  }
 },
 "nbformat": 4,
 "nbformat_minor": 4
}
