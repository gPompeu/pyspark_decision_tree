{
 "cells": [
  {
   "cell_type": "markdown",
   "metadata": {},
   "source": [
    "### Inicialização do pyspark"
   ]
  },
  {
   "cell_type": "code",
   "execution_count": 2,
   "metadata": {},
   "outputs": [],
   "source": [
    "import pyspark\n",
    "\n",
    "spark = pyspark.sql.SparkSession.builder.appName('decision_tree').getOrCreate()\n",
    "sc = spark.sparkContext"
   ]
  },
  {
   "cell_type": "markdown",
   "metadata": {},
   "source": [
    "### Implementação de árvore de decisão para classificação MLlib"
   ]
  },
  {
   "cell_type": "code",
   "execution_count": 3,
   "metadata": {},
   "outputs": [],
   "source": [
    "from pyspark.mllib.tree import DecisionTree, DecisionTreeModel\n",
    "from pyspark.mllib.util import MLUtils\n",
    "#Carrega e processo os dados para dentro de um RDD de LabeledPoint\n",
    "data = MLUtils.loadLibSVMFile(sc, 'data/iris_libsvm.txt')\n",
    "\n",
    "#Separa os dados em treino e teste\n",
    "(trainingData, testData) = data.randomSplit([0.7, 0.3])"
   ]
  },
  {
   "cell_type": "code",
   "execution_count": 9,
   "metadata": {},
   "outputs": [
    {
     "data": {
      "text/plain": [
       "LabeledPoint(0.0, (4,[0,1,2,3],[4.7,3.2,1.3,0.2]))"
      ]
     },
     "execution_count": 9,
     "metadata": {},
     "output_type": "execute_result"
    }
   ],
   "source": [
    "data.collect()[2]"
   ]
  },
  {
   "cell_type": "code",
   "execution_count": 14,
   "metadata": {},
   "outputs": [
    {
     "name": "stdout",
     "output_type": "stream",
     "text": [
      "Test error: 0.041666666666666664\n",
      "Learned classification tree model:\n",
      "DecisionTreeModel classifier of depth 4 with 13 nodes\n",
      "  If (feature 2 <= 2.45)\n",
      "   Predict: 0.0\n",
      "  Else (feature 2 > 2.45)\n",
      "   If (feature 3 <= 1.75)\n",
      "    If (feature 2 <= 5.05)\n",
      "     Predict: 1.0\n",
      "    Else (feature 2 > 5.05)\n",
      "     If (feature 0 <= 6.05)\n",
      "      Predict: 1.0\n",
      "     Else (feature 0 > 6.05)\n",
      "      Predict: 2.0\n",
      "   Else (feature 3 > 1.75)\n",
      "    If (feature 2 <= 4.85)\n",
      "     If (feature 0 <= 5.95)\n",
      "      Predict: 1.0\n",
      "     Else (feature 0 > 5.95)\n",
      "      Predict: 2.0\n",
      "    Else (feature 2 > 4.85)\n",
      "     Predict: 2.0\n",
      "\n"
     ]
    }
   ],
   "source": [
    "#Treina o modelo\n",
    "#categoricalFeaturesInfo vazio indica que todas as features são contínuas\n",
    "model = DecisionTree.trainClassifier(trainingData, numClasses=3, categoricalFeaturesInfo={}\n",
    "                                    , impurity='gini', maxDepth=5, maxBins=32)\n",
    "\n",
    "#Valida o modelo em instâncias de teste e calcula o erro no teste\n",
    "predictions = model.predict(testData.map(lambda x: x.features))\n",
    "labelsAndPredictions = testData.map(lambda lp: lp.label).zip(predictions)\n",
    "testErr = labelsAndPredictions.filter(\n",
    "    lambda lp: lp[0] != lp[1]).count() / float(testData.count())\n",
    "print('Test error: ' + str(testErr))\n",
    "print('Learned classification tree model:')\n",
    "print(model.toDebugString())"
   ]
  },
  {
   "cell_type": "code",
   "execution_count": 13,
   "metadata": {
    "collapsed": true
   },
   "outputs": [
    {
     "name": "stdout",
     "output_type": "stream",
     "text": [
      "Test error: 0.041666666666666664\n",
      "Learned classification tree model:\n",
      "DecisionTreeModel classifier of depth 4 with 13 nodes\n",
      "  If (feature 2 <= 2.45)\n",
      "   Predict: 0.0\n",
      "  Else (feature 2 > 2.45)\n",
      "   If (feature 3 <= 1.75)\n",
      "    If (feature 2 <= 5.05)\n",
      "     Predict: 1.0\n",
      "    Else (feature 2 > 5.05)\n",
      "     If (feature 0 <= 6.05)\n",
      "      Predict: 1.0\n",
      "     Else (feature 0 > 6.05)\n",
      "      Predict: 2.0\n",
      "   Else (feature 3 > 1.75)\n",
      "    If (feature 2 <= 4.85)\n",
      "     If (feature 0 <= 5.95)\n",
      "      Predict: 1.0\n",
      "     Else (feature 0 > 5.95)\n",
      "      Predict: 2.0\n",
      "    Else (feature 2 > 4.85)\n",
      "     Predict: 2.0\n",
      "\n"
     ]
    }
   ],
   "source": [
    "#Save and load the model\n",
    "#model.save(sc, 'tmp/myDecisionTreeClassificationModel')\n",
    "#sameModel = DecisionTreeModel.load(sc, 'tmp/myDecisionTreeClassificationModel')"
   ]
  },
  {
   "cell_type": "markdown",
   "metadata": {},
   "source": [
    "---"
   ]
  },
  {
   "cell_type": "markdown",
   "metadata": {},
   "source": [
    "### Hiperparâmetros\n",
    "### Hiperparâmetros de especificação do problema\n",
    "<b>numClasses</b>: Número de classes da variável dependente (Apenas para classificação) \n",
    "\n",
    "<b>categoricalFeaturesInfo</b>: Dicionário especificando quais variáveis independentes são categóricas, não é obrigatório mas pode ajudar no tempo de treinamento do modelo\n",
    "\n",
    "### Critérios de parada do modelo\n",
    "<b>maxDepth</b>: Profundidade máxima da árvore\n",
    "\n",
    "<b>minInstancesPerNode</b>: Para que um ramo seja splitado, cada uma de suas folhas deve ter o mínimo de datapoints especificados neste parâmetro\n",
    "\n",
    "<b>minInfoGain</b>: Para que um ramo seja splitado, deve ter um ganho de informação mínimo especificado neste parâmetro\n",
    "\n",
    "### Parâmetros de tunagem\n",
    "<b>maxBins</b>: Número máximo de bins utilizado para discretizar variáveis contínuas\n",
    "\n",
    "<b>maxMemoryInMB</b>: Quantidade de memória que será utilizada para coletar estatísticas dos dados. Por padrão é 246mb para que o algoritmo rode na maioria dos ambientes. Aumentar este parâmetro pode deixar o treinamento mais rápido, se houver memória disponível\n",
    "\n",
    "<b>subsamplingRate</b>: Fração dos dados de treinamento utilizados para treinar o modelo. Este parâmetro é relevante apenas para ensembles (RandomForest ou GradientBoostedTrees)\n",
    "\n",
    "<b>impurity</b>: Especifica qual cálculo será utilizado para realizar o split 'gini' ou 'entropy'"
   ]
  },
  {
   "cell_type": "markdown",
   "metadata": {},
   "source": [
    "---"
   ]
  },
  {
   "cell_type": "markdown",
   "metadata": {},
   "source": [
    "### Árvore de decisão para classificação no pyspark.ML"
   ]
  },
  {
   "cell_type": "markdown",
   "metadata": {},
   "source": [
    "Utilizando o exemplo do dataset da pesquisa de satisfação do aeroporto de São Francisco"
   ]
  },
  {
   "cell_type": "code",
   "execution_count": 10,
   "metadata": {},
   "outputs": [],
   "source": [
    "from pyspark import SparkContext\n",
    "from pyspark import sql"
   ]
  },
  {
   "cell_type": "code",
   "execution_count": 13,
   "metadata": {},
   "outputs": [],
   "source": [
    "sc = SparkContext(master='local', appName='PesquisaSatisfacaoSFO')\n",
    "spark = sql.SparkSession(sc)"
   ]
  },
  {
   "cell_type": "code",
   "execution_count": 22,
   "metadata": {},
   "outputs": [],
   "source": [
    "pesquisa = spark.read.csv('data//2013_SFO_Customer_Survey.csv', inferSchema=True, header=True)"
   ]
  },
  {
   "cell_type": "code",
   "execution_count": 41,
   "metadata": {},
   "outputs": [
    {
     "name": "stdout",
     "output_type": "stream",
     "text": [
      "root\n",
      " |-- RESPNUM: integer (nullable = true)\n",
      " |-- CCGID: integer (nullable = true)\n",
      " |-- RUN: integer (nullable = true)\n",
      " |-- INTDATE: integer (nullable = true)\n",
      " |-- GATE: integer (nullable = true)\n",
      " |-- STRATA: integer (nullable = true)\n",
      " |-- PEAK: integer (nullable = true)\n",
      " |-- METHOD: integer (nullable = true)\n",
      " |-- AIRLINE: integer (nullable = true)\n",
      " |-- FLIGHT: integer (nullable = true)\n",
      " |-- DEST: integer (nullable = true)\n",
      " |-- DESTGEO: integer (nullable = true)\n",
      " |-- DESTMARK: integer (nullable = true)\n",
      " |-- ARRTIME: string (nullable = true)\n",
      " |-- DEPTIME: string (nullable = true)\n",
      " |-- Q2PURP1: integer (nullable = true)\n",
      " |-- Q2PURP2: integer (nullable = true)\n",
      " |-- Q2PURP3: integer (nullable = true)\n",
      " |-- Q2PURP4: integer (nullable = true)\n",
      " |-- Q2PURP5: integer (nullable = true)\n",
      " |-- Q2PURP6: string (nullable = true)\n",
      " |-- Q3GETTO1: integer (nullable = true)\n",
      " |-- Q3GETTO2: integer (nullable = true)\n",
      " |-- Q3GETTO3: integer (nullable = true)\n",
      " |-- Q3GETTO4: integer (nullable = true)\n",
      " |-- Q3GETTO5: string (nullable = true)\n",
      " |-- Q3GETTO6: string (nullable = true)\n",
      " |-- Q3PARK: integer (nullable = true)\n",
      " |-- Q4BAGS: integer (nullable = true)\n",
      " |-- Q4BUY: integer (nullable = true)\n",
      " |-- Q4FOOD: integer (nullable = true)\n",
      " |-- Q4WIFI: integer (nullable = true)\n",
      " |-- Q5FLYPERYR: integer (nullable = true)\n",
      " |-- Q6TENURE: double (nullable = true)\n",
      " |-- SAQ: integer (nullable = true)\n",
      " |-- Q7A_ART: integer (nullable = true)\n",
      " |-- Q7B_FOOD: integer (nullable = true)\n",
      " |-- Q7C_SHOPS: integer (nullable = true)\n",
      " |-- Q7D_SIGNS: integer (nullable = true)\n",
      " |-- Q7E_WALK: integer (nullable = true)\n",
      " |-- Q7F_SCREENS: integer (nullable = true)\n",
      " |-- Q7G_INFOARR: integer (nullable = true)\n",
      " |-- Q7H_INFODEP: integer (nullable = true)\n",
      " |-- Q7I_WIFI: integer (nullable = true)\n",
      " |-- Q7J_ROAD: integer (nullable = true)\n",
      " |-- Q7K_PARK: integer (nullable = true)\n",
      " |-- Q7L_AIRTRAIN: integer (nullable = true)\n",
      " |-- Q7M_LTPARK: integer (nullable = true)\n",
      " |-- Q7N_RENTAL: integer (nullable = true)\n",
      " |-- Q7O_WHOLE: integer (nullable = true)\n",
      " |-- Q8COM1: integer (nullable = true)\n",
      " |-- Q8COM2: integer (nullable = true)\n",
      " |-- Q8COM3: integer (nullable = true)\n",
      " |-- Q9A_CLNBOARD: integer (nullable = true)\n",
      " |-- Q9B_CLNAIRTRAIN: integer (nullable = true)\n",
      " |-- Q9C_CLNRENT: integer (nullable = true)\n",
      " |-- Q9D_CLNFOOD: integer (nullable = true)\n",
      " |-- Q9E_CLNBATH: integer (nullable = true)\n",
      " |-- Q9F_CLNWHOLE: integer (nullable = true)\n",
      " |-- Q9COM1: integer (nullable = true)\n",
      " |-- Q9COM2: integer (nullable = true)\n",
      " |-- Q9COM3: integer (nullable = true)\n",
      " |-- Q10SAFE: integer (nullable = true)\n",
      " |-- Q10COM1: integer (nullable = true)\n",
      " |-- Q10COM2: integer (nullable = true)\n",
      " |-- Q10COM3: integer (nullable = true)\n",
      " |-- Q11A_USEWEB: integer (nullable = true)\n",
      " |-- Q11B_USESFOAPP: integer (nullable = true)\n",
      " |-- Q11C_USEOTHAPP: integer (nullable = true)\n",
      " |-- Q11D_USESOCMED: integer (nullable = true)\n",
      " |-- Q11E_USEWIFI: integer (nullable = true)\n",
      " |-- Q12COM1: integer (nullable = true)\n",
      " |-- Q12COM2: integer (nullable = true)\n",
      " |-- Q12COM3: integer (nullable = true)\n",
      " |-- Q13_WHEREDEPART: integer (nullable = true)\n",
      " |-- Q13_RATEGETTO: integer (nullable = true)\n",
      " |-- Q14A_FIND: integer (nullable = true)\n",
      " |-- Q14B_SECURITY: integer (nullable = true)\n",
      " |-- Q15_PROBLEMS: integer (nullable = true)\n",
      " |-- Q15COM1: integer (nullable = true)\n",
      " |-- Q15COM2: integer (nullable = true)\n",
      " |-- Q15COM3: integer (nullable = true)\n",
      " |-- Q16_REGION: integer (nullable = true)\n",
      " |-- Q17_CITY: string (nullable = true)\n",
      " |-- Q17_ZIP: integer (nullable = true)\n",
      " |-- Q17_COUNTRY: string (nullable = true)\n",
      " |-- HOME: integer (nullable = true)\n",
      " |-- Q18_AGE: integer (nullable = true)\n",
      " |-- Q19_SEX: integer (nullable = true)\n",
      " |-- Q20_INCOME: integer (nullable = true)\n",
      " |-- Q21_HIFLYER: integer (nullable = true)\n",
      " |-- Q22A_USESJC: integer (nullable = true)\n",
      " |-- Q22B_USEOAK: integer (nullable = true)\n",
      " |-- LANG: integer (nullable = true)\n",
      " |-- WEIGHT: double (nullable = true)\n",
      "\n"
     ]
    }
   ],
   "source": [
    "pesquisa.printSchema()"
   ]
  },
  {
   "cell_type": "code",
   "execution_count": 56,
   "metadata": {},
   "outputs": [],
   "source": [
    "colunasEstudo = pesquisa.columns[35:50]\n",
    "df = pesquisa.select(colunasEstudo)"
   ]
  },
  {
   "cell_type": "code",
   "execution_count": 57,
   "metadata": {},
   "outputs": [
    {
     "data": {
      "text/plain": [
       "\"'missingValues(Q7A_ART) Q7A_ART', 'missingValues(Q7B_FOOD) Q7B_FOOD', 'missingValues(Q7C_SHOPS) Q7C_SHOPS', 'missingValues(Q7D_SIGNS) Q7D_SIGNS', 'missingValues(Q7E_WALK) Q7E_WALK', 'missingValues(Q7F_SCREENS) Q7F_SCREENS', 'missingValues(Q7G_INFOARR) Q7G_INFOARR', 'missingValues(Q7H_INFODEP) Q7H_INFODEP', 'missingValues(Q7I_WIFI) Q7I_WIFI', 'missingValues(Q7J_ROAD) Q7J_ROAD', 'missingValues(Q7K_PARK) Q7K_PARK', 'missingValues(Q7L_AIRTRAIN) Q7L_AIRTRAIN', 'missingValues(Q7M_LTPARK) Q7M_LTPARK', 'missingValues(Q7N_RENTAL) Q7N_RENTAL', 'missingValues(Q7O_WHOLE) Q7O_WHOLE'\""
      ]
     },
     "execution_count": 57,
     "metadata": {},
     "output_type": "execute_result"
    }
   ],
   "source": [
    "missingValuesInstrucao = map(lambda col: \"'missingValues(\" + col + \") \" + col + \"'\", colunasEstudo)\n",
    "\", \".join(missingValuesInstrucao)"
   ]
  },
  {
   "cell_type": "code",
   "execution_count": 59,
   "metadata": {},
   "outputs": [
    {
     "data": {
      "text/plain": [
       "[Row(Q7O_WHOLE=3.8743988684582744)]"
      ]
     },
     "execution_count": 59,
     "metadata": {},
     "output_type": "execute_result"
    }
   ],
   "source": [
    "df.selectExpr('avg(Q7O_WHOLE) Q7O_WHOLE').take(1)"
   ]
  },
  {
   "cell_type": "code",
   "execution_count": 73,
   "metadata": {},
   "outputs": [],
   "source": [
    "medias = df.selectExpr('avg(Q7A_ART) Q7A_ART', 'avg(Q7B_FOOD) Q7B_FOOD', 'avg(Q7C_SHOPS) Q7C_SHOPS', 'avg(Q7D_SIGNS) Q7D_SIGNS', 'avg(Q7E_WALK) Q7E_WALK', 'avg(Q7F_SCREENS) Q7F_SCREENS', 'avg(Q7G_INFOARR) Q7G_INFOARR', 'avg(Q7H_INFODEP) Q7H_INFODEP', 'avg(Q7I_WIFI) Q7I_WIFI', 'avg(Q7J_ROAD) Q7J_ROAD', 'avg(Q7K_PARK) Q7K_PARK', 'avg(Q7L_AIRTRAIN) Q7L_AIRTRAIN', 'avg(Q7M_LTPARK) Q7M_LTPARK', 'avg(Q7N_RENTAL) Q7N_RENTAL')"
   ]
  },
  {
   "cell_type": "code",
   "execution_count": 80,
   "metadata": {},
   "outputs": [
    {
     "name": "stdout",
     "output_type": "stream",
     "text": [
      "+-----------------+-----------------+------------------+------------------+-----------------+----------------+-----------------+-----------------+-----------------+-----------------+-----------------+------------------+-----------------+-----------------+\n",
      "|          Q7A_ART|         Q7B_FOOD|         Q7C_SHOPS|         Q7D_SIGNS|         Q7E_WALK|     Q7F_SCREENS|      Q7G_INFOARR|      Q7H_INFODEP|         Q7I_WIFI|         Q7J_ROAD|         Q7K_PARK|      Q7L_AIRTRAIN|       Q7M_LTPARK|       Q7N_RENTAL|\n",
      "+-----------------+-----------------+------------------+------------------+-----------------+----------------+-----------------+-----------------+-----------------+-----------------+-----------------+------------------+-----------------+-----------------+\n",
      "|4.300707213578501|3.951909476661952|3.9216407355021214|3.9315417256011314|4.114851485148515|4.02998585572843|4.645261669024046|4.667043847241867|4.271570014144271|4.501838755304102|4.825459688826025|4.8381895332390386|5.032814710042433|4.926449787835926|\n",
      "+-----------------+-----------------+------------------+------------------+-----------------+----------------+-----------------+-----------------+-----------------+-----------------+-----------------+------------------+-----------------+-----------------+\n",
      "\n"
     ]
    }
   ],
   "source": [
    "medias.show()"
   ]
  },
  {
   "cell_type": "code",
   "execution_count": 81,
   "metadata": {},
   "outputs": [],
   "source": [
    "treinamento = df.withColumn('label', df['Q7O_WHOLE']*1.0).na.replace(0,3).replace(6,3)"
   ]
  },
  {
   "cell_type": "code",
   "execution_count": 82,
   "metadata": {
    "collapsed": true
   },
   "outputs": [
    {
     "name": "stdout",
     "output_type": "stream",
     "text": [
      "+-------+--------+---------+---------+--------+-----------+-----------+-----------+--------+--------+--------+------------+----------+----------+---------+-----+\n",
      "|Q7A_ART|Q7B_FOOD|Q7C_SHOPS|Q7D_SIGNS|Q7E_WALK|Q7F_SCREENS|Q7G_INFOARR|Q7H_INFODEP|Q7I_WIFI|Q7J_ROAD|Q7K_PARK|Q7L_AIRTRAIN|Q7M_LTPARK|Q7N_RENTAL|Q7O_WHOLE|label|\n",
      "+-------+--------+---------+---------+--------+-----------+-----------+-----------+--------+--------+--------+------------+----------+----------+---------+-----+\n",
      "|      3|       4|        3|        3|       3|          3|          3|          3|       3|       3|       3|           3|         3|         3|        3|  3.0|\n",
      "|      4|       4|        4|        4|       4|          3|          3|          3|       3|       4|       3|           3|         3|         3|        4|  4.0|\n",
      "|      3|       4|        4|        2|       4|          4|          2|          2|       3|       2|       3|           4|         3|         4|        3|  3.0|\n",
      "|      3|       3|        3|        4|       4|          4|          4|          4|       4|       5|       4|           4|         4|         3|        4|  4.0|\n",
      "|      3|       3|        2|        3|       5|          5|          3|          3|       5|       5|       3|           5|         3|         4|        4|  4.0|\n",
      "|      4|       3|        2|        3|       3|          3|          3|          3|       1|       2|       3|           4|         3|         3|        4|  4.0|\n",
      "|      3|       3|        3|        5|       5|          5|          3|          3|       3|       5|       5|           3|         3|         3|        4|  4.0|\n",
      "|      5|       4|        5|        4|       5|          5|          4|          4|       5|       5|       5|           5|         5|         3|        5|  5.0|\n",
      "|      5|       5|        4|        5|       5|          5|          3|          3|       5|       5|       4|           3|         3|         3|        4|  4.0|\n",
      "|      3|       3|        3|        3|       3|          5|          5|          5|       5|       3|       3|           3|         3|         3|        4|  4.0|\n",
      "|      3|       3|        3|        3|       3|          3|          3|          3|       3|       4|       3|           4|         3|         3|        4|  4.0|\n",
      "|      4|       4|        4|        4|       4|          4|          3|          3|       3|       4|       3|           3|         4|         3|        4|  4.0|\n",
      "|      4|       3|        3|        4|       4|          3|          3|          3|       4|       4|       3|           4|         3|         3|        4|  4.0|\n",
      "|      3|       3|        4|        3|       3|          3|          3|          3|       3|       3|       3|           3|         3|         3|        3|  3.0|\n",
      "|      4|       3|        3|        5|       5|          5|          3|          3|       3|       3|       4|           3|         3|         3|        5|  5.0|\n",
      "|      3|       3|        3|        4|       4|          3|          3|          3|       3|       4|       3|           3|         3|         3|        4|  4.0|\n",
      "|      2|       1|        2|        3|       3|          3|          4|          3|       1|       3|       3|           5|         3|         3|        3|  3.0|\n",
      "|      5|       4|        4|        5|       3|          4|          4|          4|       3|       4|       4|           3|         3|         3|        4|  4.0|\n",
      "|      5|       5|        5|        5|       5|          5|          5|          5|       5|       5|       5|           3|         5|         5|        5|  5.0|\n",
      "|      3|       4|        4|        4|       4|          4|          3|          3|       3|       3|       3|           3|         3|         3|        4|  4.0|\n",
      "+-------+--------+---------+---------+--------+-----------+-----------+-----------+--------+--------+--------+------------+----------+----------+---------+-----+\n",
      "only showing top 20 rows\n",
      "\n"
     ]
    }
   ],
   "source": [
    "treinamento.show()"
   ]
  },
  {
   "cell_type": "code",
   "execution_count": 88,
   "metadata": {},
   "outputs": [],
   "source": [
    "from pyspark.ml import Pipeline\n",
    "from pyspark.ml.feature import VectorAssembler\n",
    "from pyspark.ml.regression import DecisionTreeRegressor\n",
    "from pyspark.ml.tuning import ParamGridBuilder, CrossValidator\n",
    "from pyspark.ml.evaluation import RegressionEvaluator\n",
    "\n",
    "colunasInput = colunasEstudo[0:-1]\n",
    "va = VectorAssembler(inputCols=colunasInput, outputCol='features')\n",
    "dtreg = DecisionTreeRegressor(labelCol='label', featuresCol='features', maxDepth=4)\n",
    "evaluator = RegressionEvaluator(metricName='rmse', labelCol='label')\n",
    "grid = ParamGridBuilder().addGrid(dtreg.maxDepth, [3, 5, 7, 10]).build()\n",
    "cv = CrossValidator(estimator=dtreg, estimatorParamMaps=grid, evaluator=evaluator, numFolds=10)\n",
    "pipeline = Pipeline(stages=[va, dtreg])"
   ]
  },
  {
   "cell_type": "code",
   "execution_count": 94,
   "metadata": {},
   "outputs": [],
   "source": [
    "modelo = pipeline.fit(treinamento)"
   ]
  },
  {
   "cell_type": "code",
   "execution_count": 99,
   "metadata": {},
   "outputs": [
    {
     "data": {
      "text/plain": [
       "DecisionTreeRegressionModel (uid=DecisionTreeRegressor_3118d32737cf) of depth 4 with 31 nodes"
      ]
     },
     "metadata": {},
     "output_type": "display_data"
    }
   ],
   "source": [
    "display(modelo.stages[1])"
   ]
  },
  {
   "cell_type": "code",
   "execution_count": 100,
   "metadata": {},
   "outputs": [],
   "source": [
    "predicoes = modelo.transform(treinamento)"
   ]
  },
  {
   "cell_type": "code",
   "execution_count": 102,
   "metadata": {
    "collapsed": true
   },
   "outputs": [
    {
     "name": "stdout",
     "output_type": "stream",
     "text": [
      "+-------+--------+---------+---------+--------+-----------+-----------+-----------+--------+--------+--------+------------+----------+----------+---------+-----+--------------------+------------------+\n",
      "|Q7A_ART|Q7B_FOOD|Q7C_SHOPS|Q7D_SIGNS|Q7E_WALK|Q7F_SCREENS|Q7G_INFOARR|Q7H_INFODEP|Q7I_WIFI|Q7J_ROAD|Q7K_PARK|Q7L_AIRTRAIN|Q7M_LTPARK|Q7N_RENTAL|Q7O_WHOLE|label|            features|        prediction|\n",
      "+-------+--------+---------+---------+--------+-----------+-----------+-----------+--------+--------+--------+------------+----------+----------+---------+-----+--------------------+------------------+\n",
      "|      3|       4|        3|        3|       3|          3|          3|          3|       3|       3|       3|           3|         3|         3|        3|  3.0|[3.0,4.0,3.0,3.0,...| 3.676829268292683|\n",
      "|      4|       4|        4|        4|       4|          3|          3|          3|       3|       4|       3|           3|         3|         3|        4|  4.0|[4.0,4.0,4.0,4.0,...| 3.676829268292683|\n",
      "|      3|       4|        4|        2|       4|          4|          2|          2|       3|       2|       3|           4|         3|         4|        3|  3.0|[3.0,4.0,4.0,2.0,...| 3.880672268907563|\n",
      "|      3|       3|        3|        4|       4|          4|          4|          4|       4|       5|       4|           4|         4|         3|        4|  4.0|[3.0,3.0,3.0,4.0,...| 3.880672268907563|\n",
      "|      3|       3|        2|        3|       5|          5|          3|          3|       5|       5|       3|           5|         3|         4|        4|  4.0|[3.0,3.0,2.0,3.0,...| 4.135135135135135|\n",
      "|      4|       3|        2|        3|       3|          3|          3|          3|       1|       2|       3|           4|         3|         3|        4|  4.0|[4.0,3.0,2.0,3.0,...|3.2510699001426535|\n",
      "|      3|       3|        3|        5|       5|          5|          3|          3|       3|       5|       5|           3|         3|         3|        4|  4.0|[3.0,3.0,3.0,5.0,...| 4.291666666666667|\n",
      "|      5|       4|        5|        4|       5|          5|          4|          4|       5|       5|       5|           5|         5|         3|        5|  5.0|[5.0,4.0,5.0,4.0,...| 4.135135135135135|\n",
      "|      5|       5|        4|        5|       5|          5|          3|          3|       5|       5|       4|           3|         3|         3|        4|  4.0|[5.0,5.0,4.0,5.0,...| 4.836820083682008|\n",
      "|      3|       3|        3|        3|       3|          5|          5|          5|       5|       3|       3|           3|         3|         3|        4|  4.0|[3.0,3.0,3.0,3.0,...| 4.135135135135135|\n",
      "|      3|       3|        3|        3|       3|          3|          3|          3|       3|       4|       3|           4|         3|         3|        4|  4.0|[3.0,3.0,3.0,3.0,...|3.2510699001426535|\n",
      "|      4|       4|        4|        4|       4|          4|          3|          3|       3|       4|       3|           3|         4|         3|        4|  4.0|[4.0,4.0,4.0,4.0,...| 3.880672268907563|\n",
      "|      4|       3|        3|        4|       4|          3|          3|          3|       4|       4|       3|           4|         3|         3|        4|  4.0|[4.0,3.0,3.0,4.0,...|3.2510699001426535|\n",
      "|      3|       3|        4|        3|       3|          3|          3|          3|       3|       3|       3|           3|         3|         3|        3|  3.0|[3.0,3.0,4.0,3.0,...|3.2510699001426535|\n",
      "|      4|       3|        3|        5|       5|          5|          3|          3|       3|       3|       4|           3|         3|         3|        5|  5.0|[4.0,3.0,3.0,5.0,...| 4.291666666666667|\n",
      "|      3|       3|        3|        4|       4|          3|          3|          3|       3|       4|       3|           3|         3|         3|        4|  4.0|[3.0,3.0,3.0,4.0,...|3.2510699001426535|\n",
      "|      2|       1|        2|        3|       3|          3|          4|          3|       1|       3|       3|           5|         3|         3|        3|  3.0|[2.0,1.0,2.0,3.0,...|3.2510699001426535|\n",
      "|      5|       4|        4|        5|       3|          4|          4|          4|       3|       4|       4|           3|         3|         3|        4|  4.0|[5.0,4.0,4.0,5.0,...| 4.478527607361963|\n",
      "|      5|       5|        5|        5|       5|          5|          5|          5|       5|       5|       5|           3|         5|         5|        5|  5.0|[5.0,5.0,5.0,5.0,...| 4.836820083682008|\n",
      "|      3|       4|        4|        4|       4|          4|          3|          3|       3|       3|       3|           3|         3|         3|        4|  4.0|[3.0,4.0,4.0,4.0,...| 3.880672268907563|\n",
      "+-------+--------+---------+---------+--------+-----------+-----------+-----------+--------+--------+--------+------------+----------+----------+---------+-----+--------------------+------------------+\n",
      "only showing top 20 rows\n",
      "\n"
     ]
    }
   ],
   "source": [
    "predicoes.show()"
   ]
  },
  {
   "cell_type": "code",
   "execution_count": 103,
   "metadata": {},
   "outputs": [
    {
     "data": {
      "text/plain": [
       "0.555808023551782"
      ]
     },
     "execution_count": 103,
     "metadata": {},
     "output_type": "execute_result"
    }
   ],
   "source": [
    "avaliador = RegressionEvaluator()\n",
    "avaliador.evaluate(predicoes, {evaluator.metricName: 'rmse'})"
   ]
  },
  {
   "cell_type": "markdown",
   "metadata": {},
   "source": [
    "### feature importance"
   ]
  },
  {
   "cell_type": "code",
   "execution_count": 105,
   "metadata": {},
   "outputs": [
    {
     "data": {
      "text/plain": [
       "SparseVector(14, {0: 0.0653, 1: 0.1173, 2: 0.0099, 3: 0.5219, 4: 0.0052, 5: 0.2403, 8: 0.0028, 10: 0.0059, 13: 0.0314})"
      ]
     },
     "execution_count": 105,
     "metadata": {},
     "output_type": "execute_result"
    }
   ],
   "source": [
    "modelo.stages[1].featureImportances"
   ]
  },
  {
   "cell_type": "code",
   "execution_count": 107,
   "metadata": {},
   "outputs": [],
   "source": [
    "importanciaFeatures = modelo.stages[1].featureImportances.toArray()"
   ]
  },
  {
   "cell_type": "code",
   "execution_count": 109,
   "metadata": {},
   "outputs": [],
   "source": [
    "nomeFeatures = map(lambda feat: feat.name, df.schema.fields)"
   ]
  },
  {
   "cell_type": "code",
   "execution_count": 111,
   "metadata": {},
   "outputs": [],
   "source": [
    "importanciaFeaturesMap = zip(importanciaFeatures, nomeFeatures)"
   ]
  },
  {
   "cell_type": "code",
   "execution_count": 113,
   "metadata": {},
   "outputs": [],
   "source": [
    "dfImportanciaFeatures = spark.createDataFrame(sc.parallelize(importanciaFeaturesMap).map(lambda r: [r[1], float(r[0])]))"
   ]
  },
  {
   "cell_type": "code",
   "execution_count": 115,
   "metadata": {},
   "outputs": [
    {
     "name": "stdout",
     "output_type": "stream",
     "text": [
      "+------------+--------------------+\n",
      "|          _1|                  _2|\n",
      "+------------+--------------------+\n",
      "|     Q7A_ART| 0.06525145453249198|\n",
      "|    Q7B_FOOD| 0.11726445589519406|\n",
      "|   Q7C_SHOPS|0.009940295196927703|\n",
      "|   Q7D_SIGNS|  0.5219302904331116|\n",
      "|    Q7E_WALK|0.005232136454289954|\n",
      "| Q7F_SCREENS|   0.240344587239121|\n",
      "| Q7G_INFOARR|                 0.0|\n",
      "| Q7H_INFODEP|                 0.0|\n",
      "|    Q7I_WIFI|0.002774900310175427|\n",
      "|    Q7J_ROAD|                 0.0|\n",
      "|    Q7K_PARK|0.005854457703262646|\n",
      "|Q7L_AIRTRAIN|                 0.0|\n",
      "|  Q7M_LTPARK|                 0.0|\n",
      "|  Q7N_RENTAL| 0.03140742223542566|\n",
      "+------------+--------------------+\n",
      "\n"
     ]
    }
   ],
   "source": [
    "dfImportanciaFeatures.show()"
   ]
  },
  {
   "cell_type": "code",
   "execution_count": 116,
   "metadata": {},
   "outputs": [],
   "source": [
    "dfImportanciaFeatures = dfImportanciaFeatures.withColumnRenamed('_1', 'Feature').withColumnRenamed('_2', 'Importancia')"
   ]
  },
  {
   "cell_type": "code",
   "execution_count": 122,
   "metadata": {},
   "outputs": [
    {
     "name": "stdout",
     "output_type": "stream",
     "text": [
      "+------------+--------------------+\n",
      "|     Feature|         Importancia|\n",
      "+------------+--------------------+\n",
      "|Q7L_AIRTRAIN|                 0.0|\n",
      "| Q7H_INFODEP|                 0.0|\n",
      "|  Q7M_LTPARK|                 0.0|\n",
      "|    Q7J_ROAD|                 0.0|\n",
      "| Q7G_INFOARR|                 0.0|\n",
      "|    Q7I_WIFI|0.002774900310175427|\n",
      "|    Q7E_WALK|0.005232136454289954|\n",
      "|    Q7K_PARK|0.005854457703262646|\n",
      "|   Q7C_SHOPS|0.009940295196927703|\n",
      "|  Q7N_RENTAL| 0.03140742223542566|\n",
      "|     Q7A_ART| 0.06525145453249198|\n",
      "|    Q7B_FOOD| 0.11726445589519406|\n",
      "| Q7F_SCREENS|   0.240344587239121|\n",
      "|   Q7D_SIGNS|  0.5219302904331116|\n",
      "+------------+--------------------+\n",
      "\n"
     ]
    }
   ],
   "source": [
    "dfImportanciaFeatures.orderBy('Importancia').show()"
   ]
  }
 ],
 "metadata": {
  "kernelspec": {
   "display_name": "Python 3",
   "language": "python",
   "name": "python3"
  },
  "language_info": {
   "codemirror_mode": {
    "name": "ipython",
    "version": 3
   },
   "file_extension": ".py",
   "mimetype": "text/x-python",
   "name": "python",
   "nbconvert_exporter": "python",
   "pygments_lexer": "ipython3",
   "version": "3.7.7"
  }
 },
 "nbformat": 4,
 "nbformat_minor": 4
}
